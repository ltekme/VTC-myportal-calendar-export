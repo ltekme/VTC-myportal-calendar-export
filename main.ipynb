{
 "cells": [
  {
   "cell_type": "markdown",
   "metadata": {},
   "source": [
    "# VTC MyPortal Calendar Export\n",
    "\n",
    "!!! Warning !!!\n",
    "\n",
    "Do NOT `Run All`. Do NOT `Run All`. Do NOT `Run All`. \n",
    "\n",
    "It is garenteed to screw up when `Run All`.\n",
    "\n",
    "run the blocks one by one."
   ]
  },
  {
   "cell_type": "code",
   "execution_count": null,
   "metadata": {},
   "outputs": [],
   "source": [
    "!pip install -r requirements.txt"
   ]
  },
  {
   "cell_type": "markdown",
   "metadata": {},
   "source": [
    "## initializations\n",
    "\n",
    "1. create folder data\n",
    "2. define variables"
   ]
  },
  {
   "cell_type": "code",
   "execution_count": null,
   "metadata": {},
   "outputs": [],
   "source": [
    "import os\n",
    "DATA_DIR = \"data\"\n",
    "\n",
    "if not os.path.exists(DATA_DIR):\n",
    "    os.mkdir(DATA_DIR)\n",
    "\n",
    "MYPORTAL_BASE_URL = 'https://myportal.vtc.edu.hk'\n",
    "CALENDAR_START_DATE = '20240900'\n",
    "CALENDAR_END_DATE = '20250500'\n",
    "CALENDAR_EVENTS_FILE = 'calendar_events.json'\n",
    "CALENDAR_EXPORT_FILE = 'calendar_export.ics'\n",
    "\n",
    "CALENDAR_EVENTS_FILE = os.path.join(DATA_DIR, CALENDAR_EVENTS_FILE)\n",
    "CALENDAR_EXPORT_FILE = os.path.join(DATA_DIR, CALENDAR_EXPORT_FILE)"
   ]
  },
  {
   "cell_type": "markdown",
   "metadata": {},
   "source": [
    "## Open Broswer for login\n",
    "\n",
    "after runing the block, a browser will open, login to the VTC MyPortal before continuing."
   ]
  },
  {
   "cell_type": "code",
   "execution_count": null,
   "metadata": {},
   "outputs": [],
   "source": [
    "from selenium.webdriver.chrome.options import Options\n",
    "\n",
    "chrome_options = Options()"
   ]
  },
  {
   "cell_type": "code",
   "execution_count": null,
   "metadata": {},
   "outputs": [],
   "source": [
    "from selenium.webdriver import Chrome\n",
    "\n",
    "chrome_broswer = Chrome(options=chrome_options)\n",
    "chrome_broswer.get(MYPORTAL_BASE_URL)"
   ]
  },
  {
   "cell_type": "markdown",
   "metadata": {},
   "source": [
    "## Open Calander and Extract Data\n",
    "\n",
    "Only Continue after login.\n",
    "\n",
    "below steps are only needed to fetch feed. if data already present in data folder skip to [Open Calander File](#-Open-Calander-File)"
   ]
  },
  {
   "cell_type": "code",
   "execution_count": null,
   "metadata": {},
   "outputs": [],
   "source": [
    "from selenium.webdriver.common.by import By\n",
    "\n",
    "chrome_broswer.find_element(By.LINK_TEXT, 'Calendar').click()"
   ]
  },
  {
   "cell_type": "code",
   "execution_count": null,
   "metadata": {},
   "outputs": [],
   "source": [
    "# Get Feed URL\n",
    "from urllib.parse import urljoin\n",
    "\n",
    "calender_feed_url = chrome_broswer.execute_script(\"return eventFeedUrl;\")\n",
    "calender_feed_url = urljoin(MYPORTAL_BASE_URL, calender_feed_url)\n",
    "calender_feed_url = f'{calender_feed_url}&from={\n",
    "    CALENDAR_START_DATE}&to={CALENDAR_END_DATE}'"
   ]
  },
  {
   "cell_type": "code",
   "execution_count": null,
   "metadata": {},
   "outputs": [],
   "source": [
    "# open feed\n",
    "chrome_broswer.get(calender_feed_url)"
   ]
  },
  {
   "cell_type": "code",
   "execution_count": null,
   "metadata": {},
   "outputs": [],
   "source": [
    "# Extract json\n",
    "import json\n",
    "\n",
    "calendar_events = chrome_broswer.find_element(By.TAG_NAME, 'pre').text\n",
    "calendar_events = json.loads(calendar_events)\n",
    "calendar_events"
   ]
  },
  {
   "cell_type": "code",
   "execution_count": null,
   "metadata": {},
   "outputs": [],
   "source": [
    "# fileter\n",
    "calendar_events = list(\n",
    "            filter(lambda e: e['eventType'] != 'Holiday', calendar_events))\n",
    "calendar_events = list(\n",
    "            filter(lambda e: e['eventType'] != 'InstitutionHoliday', calendar_events))\n",
    "calendar_events"
   ]
  },
  {
   "cell_type": "markdown",
   "metadata": {},
   "source": [
    "## Save Exported data\n",
    "\n",
    "save to data/"
   ]
  },
  {
   "cell_type": "code",
   "execution_count": null,
   "metadata": {},
   "outputs": [],
   "source": [
    "with open(CALENDAR_EVENTS_FILE, 'w') as f:\n",
    "    json.dump(calendar_events, f, indent=4)"
   ]
  },
  {
   "cell_type": "markdown",
   "metadata": {},
   "source": [
    "## Open Calander File"
   ]
  },
  {
   "cell_type": "code",
   "execution_count": null,
   "metadata": {},
   "outputs": [],
   "source": [
    "calendar_events = json.load(open(CALENDAR_EVENTS_FILE))\n",
    "calendar_events"
   ]
  },
  {
   "cell_type": "code",
   "execution_count": null,
   "metadata": {},
   "outputs": [],
   "source": [
    "# Create ical\n",
    "import pytz\n",
    "from datetime import datetime\n",
    "from icalendar import Calendar, Event, vCalAddress, vText\n",
    "\n",
    "cal = Calendar()"
   ]
  },
  {
   "cell_type": "code",
   "execution_count": null,
   "metadata": {},
   "outputs": [],
   "source": [
    "# Create ical events\n",
    "for event in calendar_events:\n",
    "\n",
    "    # adjust time to UTC\n",
    "    local = pytz.timezone(\"Asia/Hong_Kong\")\n",
    "    start = datetime.strptime(\n",
    "        event['startDateTime'], \"%Y%m%dT%H%M%S\")\n",
    "    start = local.localize(start, is_dst=None).astimezone(pytz.utc)\n",
    "    end = datetime.strptime(event['endDateTime'], \"%Y%m%dT%H%M%S\")\n",
    "    end = local.localize(end, is_dst=None).astimezone(pytz.utc)\n",
    "\n",
    "    ical_event = Event()\n",
    "    # add event details\n",
    "    ical_event.add('summary', f'{event[\"summary\"]} <BOT>')\n",
    "    ical_event.add('description',\n",
    "                   f\"{event['details']}\\n\\nLast updated by MYPORTAL_iCALENDER_BOT@{datetime.now()}\")\n",
    "    ical_event.add('categories', event['eventType'])\n",
    "    ical_event.add('dtstart', start)\n",
    "    ical_event.add('dtend', end)\n",
    "\n",
    "    # add bot as the organizer\n",
    "    organizer = vCalAddress('MAILTO:VTC_MYPORTAL_iCAL_BOT@example.com')\n",
    "    organizer.params['cn'] = vText('MYPORTAL_iCAL_BOT')\n",
    "    organizer.params['role'] = vText('BOT')\n",
    "    ical_event['organizer'] = organizer\n",
    "\n",
    "    # add location of the event\n",
    "    ical_event['location'] = vText(event['location'])\n",
    "\n",
    "    cal.add_component(ical_event)"
   ]
  },
  {
   "cell_type": "code",
   "execution_count": null,
   "metadata": {},
   "outputs": [],
   "source": [
    "with open(CALENDAR_EXPORT_FILE, 'wb') as f:\n",
    "    f.write(cal.to_ical())"
   ]
  }
 ],
 "metadata": {
  "kernelspec": {
   "display_name": ".venv",
   "language": "python",
   "name": "python3"
  },
  "language_info": {
   "codemirror_mode": {
    "name": "ipython",
    "version": 3
   },
   "file_extension": ".py",
   "mimetype": "text/x-python",
   "name": "python",
   "nbconvert_exporter": "python",
   "pygments_lexer": "ipython3",
   "version": "3.10.12"
  }
 },
 "nbformat": 4,
 "nbformat_minor": 2
}
